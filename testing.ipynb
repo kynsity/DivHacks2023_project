{
 "cells": [
  {
   "cell_type": "code",
   "execution_count": null,
   "metadata": {},
   "outputs": [],
   "source": [
    "import os\n",
    "from PyPDF2 import PdfReader\n",
    "\n",
    "# Directory containing your PDF files\n",
    "pdf_directory = 'path/to/your/pdf/directory'\n",
    "\n",
    "# Get a list of all PDF files in the directory\n",
    "pdf_files = [file for file in os.listdir(pdf_directory) if file.endswith('.pdf')]\n",
    "\n",
    "# Loop through each PDF file and extract text\n",
    "for pdf_file in pdf_files:\n",
    "    pdf_path = os.path.join(pdf_directory, pdf_file)\n",
    "    \n",
    "    # Creating a PDF reader object for the current PDF file\n",
    "    reader = PdfReader(pdf_path)\n",
    "    \n",
    "    # Printing the number of pages in the PDF file\n",
    "    print(f\"Number of pages in '{pdf_file}': {len(reader.pages)}\")\n",
    "    \n",
    "    # Loop through each page and extract text\n",
    "    for page_num, page in enumerate(reader.pages, 1):\n",
    "        text = page.extract_text()\n",
    "        print(f\"Text from page {page_num} of '{pdf_file}':\")\n",
    "        print(text)"
   ]
  }
 ],
 "metadata": {
  "language_info": {
   "name": "python"
  },
  "orig_nbformat": 4
 },
 "nbformat": 4,
 "nbformat_minor": 2
}
